{
 "cells": [
  {
   "cell_type": "markdown",
   "metadata": {},
   "source": [
    "# Business Understanding"
   ]
  },
  {
   "cell_type": "markdown",
   "metadata": {},
   "source": [
    "Het jaarlijkse energieverbruik door Nederlanders blijft maar toenemen, ondanks alle bezuinigende maatregelen die we treffen als volk. Het toenemende energiegebruik is mede verantwoordelijk voor de wereldwijde klimaatveranderingen. De gemiddelde temperatuur over de afgelopen eeuw is gestegen, de hoeveelheid en intensiteit van neerslag zijn toegenomen en zeer warme dagen komen steeds vaker voor. Het realiseren van de klimaatdoelen van Parijs is nodig om verdere opwarming van de aarde en de gevolgen daarvan zo veel mogelijk te voorkomen. Om aan de afspraken van Parijs te voldoen moet Nederland overstappen van fossiele brandstoffen op duurzame energiebronnen zoals zon en wind. Het is daarom belangrijker dan ooit om na te denken over nieuwe manieren van energie opwekken en het indammen van energieverspilling. \n",
    "\n",
    "Enexis, Liander en Stedin zijn de drie grote netwerkbeheerders van Nederland en leveren samen energie aan bijna het hele land. Elk jaar publiceren deze bedrijven een tabel met het energieverbruik van de gebieden die onder hun beheer vallen, op hun websites. \n",
    "Welke inzichten kunnen uit deze Nederlandse verbruiksdata gegenereerd worden? En hoe kunnen we deze inzichten toepassen om een bijdrage te kunnen leveren aan de innovatie op het gebied van energieopwekking en het tegengaan van energieverspilling? \n",
    "\n",
    "Het doel van deze challenge is om inzichten te creëren die wellicht kunnen bijdragen aan de innovatie op het gebied van energieopwekking en het tegengaan van energieverspilling. Om niet verdwaald te raken in alle mogelijkheden die deze datasets bieden, zijn er van te voren een aantal hoofdvragen opgesteld. Deze hoofdvragen kunnen later nog worden opgesplitst in deelvragen.\n",
    "Als we kijken naar de data die beschikbaar is, kunnen we een aantal vragen bedenken die wellicht met behulp van data science kunnen worden opgelost. Deze vragen zijn als volgt:\n",
    "- Welke regio’s zijn de grootgebruikers van het land en waar ligt dit aan?\n",
    "- Kunnen we het gas- en/of energieverbruik van het/de aankomende jaar/jaren voorspellen en zo ja, wat vertelt deze voorspelling ons?\n",
    "- Kunnen we achterhalen wat voor type gebruiker (bijv. een winkel of huis) de meeste energie verspilt en zo ja, hier een oplossing voor bedenken?\n"
   ]
  },
  {
   "cell_type": "markdown",
   "metadata": {},
   "source": [
    "# Data Understanding"
   ]
  },
  {
   "cell_type": "markdown",
   "metadata": {},
   "source": [
    "De data bestaat zowel uit gasverbruik als energieverbruik. In de data worden een aantal kolommen gebruikt die hieronder toegelicht worden:\n",
    "\n",
    "| **Kolomnaam** | **Toelichting** | **Voorbeeld** |\n",
    "| --- | --- | --- |\n",
    "| net\\_manager | Welk bedrijf het netwerk onderhoud. | Enexis B.V. |\n",
    "| purchase\\_area | Bij welk bedrijf de elektriciteit en gas gekocht wordt. | ENEXIS |\n",
    "| street | Over welke straat de data gaat. | Sasdijk |\n",
    "| zipcode\\_from | Deze vormt samen met zipcode\\_to een range over welke postcodes de data gaat. | 4251AB |\n",
    "| zipcode\\_to | Deze vormt samen met zipcode\\_from een range over welke postcodes de data gaat. Deze is gelijk aan zipcode\\_from als het postcodegebied meer dan 9 aansluitingen heeft. | 4251AB |\n",
    "| city | Uit welke stad de data komt. | WERKENDAM |\n",
    "| num\\_connections | De hoeveelheid aansluitingen die binnen de range zijn van de postcodes. | 16 |\n",
    "| delivery\\_perc | Welk percentage van het stroomverbruik geleverd is door de energieleverancier. Wanneer een locatie bijvoorbeeld zonnepanelen heeft is dit percentage lager. | 100 |\n",
    "| perc\\_of\\_active\\_connections | Welk percentage van de aansluitingen actief zijn. | 100 |\n",
    "| type\\_conn\\_perc | Welk percentage van de aansluitingen bestaat uit het type van type\\_if\\_connection. | 50 |\n",
    "| type\\_of\\_connection | Welk soort aansluiting er aanwezig is. Voor elektriciteit is dit #zekeringen X #ampère. Voor gas is G4, G6, G10, G16 en G25. Deze aansluitingen hebben verschillende doorlaat waardes, G6 10m3 per uur door. | Gas: G6Elektriciteit: 1X25 |\n",
    "| annual\\_consume | Jaarlijks gebruik in kWh voor elektriciteit of voor gas in m3 | elektriciteit:4961gas:3215 |\n",
    "| annual\\_consume\\_lowtarif\\_perc | Welk percentage van het verbruikt tijdens laag tarief is(tussen 22:00 en 07:00 en in het weekend) | 25 |\n",
    "| smartmeter\\_perc | percentage gebruik smartmeter (alle generaties) | 0 |"
   ]
  },
  {
   "cell_type": "code",
   "execution_count": 2,
   "metadata": {},
   "outputs": [],
   "source": [
    "import pandas as pd\n",
    "import glob\n",
    "gasPath = 'datasets\\Gas'\n",
    "elecPath = 'datasets\\Electricity'"
   ]
  },
  {
   "cell_type": "markdown",
   "metadata": {},
   "source": [
    "## Stedin Gas"
   ]
  },
  {
   "cell_type": "code",
   "execution_count": 3,
   "metadata": {},
   "outputs": [
    {
     "name": "stdout",
     "output_type": "stream",
     "text": [
      "<class 'pandas.core.frame.DataFrame'>\n",
      "RangeIndex: 934948 entries, 0 to 934947\n",
      "Data columns (total 15 columns):\n",
      " #   Column                        Non-Null Count   Dtype  \n",
      "---  ------                        --------------   -----  \n",
      " 0   net_manager                   934948 non-null  int64  \n",
      " 1   purchase_area                 934947 non-null  object \n",
      " 2   street                        934948 non-null  object \n",
      " 3   zipcode_from                  934948 non-null  object \n",
      " 4   zipcode_to                    934948 non-null  object \n",
      " 5   city                          934948 non-null  object \n",
      " 6   num_connections               934948 non-null  int64  \n",
      " 7   delivery_perc                 934948 non-null  float64\n",
      " 8   perc_of_active_connections    934948 non-null  float64\n",
      " 9   type_conn_perc                934948 non-null  float64\n",
      " 10  type_of_connection            934948 non-null  object \n",
      " 11  annual_consume                934948 non-null  int64  \n",
      " 12  annual_consume_lowtarif_perc  934948 non-null  float64\n",
      " 13  smartmeter_perc               934948 non-null  float64\n",
      " 14  year                          934948 non-null  object \n",
      "dtypes: float64(5), int64(3), object(7)\n",
      "memory usage: 107.0+ MB\n",
      "None\n",
      "     net_manager purchase_area           street zipcode_from zipcode_to  \\\n",
      "0  8716892700004  Duivendrecht  Tom Schreursweg       1067MC     1115AB   \n",
      "1  8716892720002       Halfweg  Tom Schreursweg       1067MC     1115AB   \n",
      "2  8716892700004  Duivendrecht        Molenkade       1115AC     1115AC   \n",
      "3  8716892700004  Duivendrecht     Industrieweg       1115AD     1115AG   \n",
      "4  8716892700004  Duivendrecht   Rijksstraatweg       1115AH     1115AH   \n",
      "\n",
      "           city  num_connections  delivery_perc  perc_of_active_connections  \\\n",
      "0     AMSTERDAM               26          100.0                       100.0   \n",
      "1     AMSTERDAM               26          100.0                       100.0   \n",
      "2  DUIVENDRECHT               20          100.0                        95.0   \n",
      "3  DUIVENDRECHT               22          100.0                       100.0   \n",
      "4  DUIVENDRECHT               11          100.0                       100.0   \n",
      "\n",
      "   type_conn_perc type_of_connection  annual_consume  \\\n",
      "0            92.0                 G4            2611   \n",
      "1            92.0                 G4            2993   \n",
      "2            75.0                 G4            5400   \n",
      "3            64.0                 G4            5393   \n",
      "4           100.0                 G4            2128   \n",
      "\n",
      "   annual_consume_lowtarif_perc  smartmeter_perc  year  \n",
      "0                           0.0              0.0  2009  \n",
      "1                           0.0              0.0  2009  \n",
      "2                           0.0              0.0  2009  \n",
      "3                           0.0              0.0  2009  \n",
      "4                           0.0              0.0  2009  \n"
     ]
    }
   ],
   "source": [
    "stedin_gas = glob.glob(gasPath + \"/stedin_*.csv\")\n",
    "li = []  #waarom variabele li? (naarmate ik hier langer mee bezig was bedacht ik me dat het mogelijk voor list staat?)\n",
    "\n",
    "for filename in stedin_gas:\n",
    "    df = pd.read_csv(filename, index_col=None, header=0)\n",
    "    df['year'] = filename[-8:].strip('.csv')\n",
    "    li.append(df)\n",
    "\n",
    "stedinFrame = pd.concat(li, axis=0, ignore_index=True, sort=False)\n",
    "print(stedinFrame.info())\n",
    "print(stedinFrame.head())"
   ]
  },
  {
   "cell_type": "markdown",
   "metadata": {},
   "source": [
    "## Stedin Elektriciteit"
   ]
  },
  {
   "cell_type": "code",
   "execution_count": 4,
   "metadata": {},
   "outputs": [
    {
     "name": "stdout",
     "output_type": "stream",
     "text": [
      "<class 'pandas.core.frame.DataFrame'>\n",
      "RangeIndex: 913096 entries, 0 to 913095\n",
      "Data columns (total 15 columns):\n",
      " #   Column                        Non-Null Count   Dtype  \n",
      "---  ------                        --------------   -----  \n",
      " 0   net_manager                   913096 non-null  int64  \n",
      " 1   purchase_area                 913096 non-null  object \n",
      " 2   street                        913096 non-null  object \n",
      " 3   zipcode_from                  913096 non-null  object \n",
      " 4   zipcode_to                    913096 non-null  object \n",
      " 5   city                          913096 non-null  object \n",
      " 6   num_connections               913096 non-null  int64  \n",
      " 7   delivery_perc                 913096 non-null  float64\n",
      " 8   perc_of_active_connections    913096 non-null  float64\n",
      " 9   type_conn_perc                913096 non-null  float64\n",
      " 10  type_of_connection            913096 non-null  object \n",
      " 11  annual_consume                913096 non-null  int64  \n",
      " 12  annual_consume_lowtarif_perc  913096 non-null  float64\n",
      " 13  smartmeter_perc               913096 non-null  float64\n",
      " 14  year                          913096 non-null  object \n",
      "dtypes: float64(5), int64(3), object(7)\n",
      "memory usage: 104.5+ MB\n",
      "None\n",
      "     net_manager   purchase_area                   street zipcode_from  \\\n",
      "0  8716874000009  Stedin Utrecht  Gijsbrecht van Amstelln       1181EJ   \n",
      "1  8716874000009  Stedin Utrecht            Rembrandtlaan       1231AC   \n",
      "2  8716874000009  Stedin Utrecht            Rembrandtlaan       1231AD   \n",
      "3  8716874000009  Stedin Utrecht            Jan Steenlaan       1231AE   \n",
      "4  8716874000009  Stedin Utrecht      Pieter de Hooghlaan       1231AG   \n",
      "\n",
      "  zipcode_to        city  num_connections  delivery_perc  \\\n",
      "0     1231AB  AMSTELVEEN               32          100.0   \n",
      "1     1231AC  LOOSDRECHT               17          100.0   \n",
      "2     1231AD  LOOSDRECHT               17          100.0   \n",
      "3     1231AE  LOOSDRECHT               20          100.0   \n",
      "4     1231AG  LOOSDRECHT               17          100.0   \n",
      "\n",
      "   perc_of_active_connections  type_conn_perc type_of_connection  \\\n",
      "0                       93.75            78.0               3x25   \n",
      "1                      100.00            41.0               1x25   \n",
      "2                      100.00            41.0               3x25   \n",
      "3                      100.00            45.0               1x25   \n",
      "4                      100.00            71.0               1x25   \n",
      "\n",
      "   annual_consume  annual_consume_lowtarif_perc  smartmeter_perc  year  \n",
      "0            5948                         81.25              0.0  2009  \n",
      "1            3467                         76.47              0.0  2009  \n",
      "2            3880                         64.71              0.0  2009  \n",
      "3            4699                         85.00              0.0  2009  \n",
      "4            4039                         64.71              0.0  2009  \n"
     ]
    }
   ],
   "source": [
    "stedin_elec = glob.glob(elecPath + \"/stedin_*.csv\")\n",
    "li = []\n",
    "\n",
    "for filename in stedin_elec:\n",
    "    df = pd.read_csv(filename, index_col=None, header=0)\n",
    "    df['year'] = filename[-8:].strip('.csv')\n",
    "    li.append(df)\n",
    "\n",
    "stedin_Elec_Frame = pd.concat(li, axis=0, ignore_index=True, sort=False)\n",
    "print(stedin_Elec_Frame.info())\n",
    "print(stedin_Elec_Frame.head())"
   ]
  },
  {
   "cell_type": "markdown",
   "metadata": {},
   "source": [
    "## Liander Gas"
   ]
  },
  {
   "cell_type": "code",
   "execution_count": 5,
   "metadata": {},
   "outputs": [
    {
     "name": "stdout",
     "output_type": "stream",
     "text": [
      "<class 'pandas.core.frame.DataFrame'>\n",
      "RangeIndex: 1200607 entries, 0 to 1200606\n",
      "Data columns (total 15 columns):\n",
      " #   Column                        Non-Null Count    Dtype  \n",
      "---  ------                        --------------    -----  \n",
      " 0   net_manager                   1200607 non-null  object \n",
      " 1   purchase_area                 964673 non-null   object \n",
      " 2   street                        1200607 non-null  object \n",
      " 3   zipcode_from                  1200607 non-null  object \n",
      " 4   zipcode_to                    1200607 non-null  object \n",
      " 5   city                          1200607 non-null  object \n",
      " 6   num_connections               1200607 non-null  float64\n",
      " 7   delivery_perc                 1200607 non-null  float64\n",
      " 8   perc_of_active_connections    1200607 non-null  float64\n",
      " 9   type_conn_perc                1200607 non-null  float64\n",
      " 10  type_of_connection            1200607 non-null  object \n",
      " 11  annual_consume                1200607 non-null  float64\n",
      " 12  annual_consume_lowtarif_perc  1200607 non-null  float64\n",
      " 13  smartmeter_perc               1200607 non-null  float64\n",
      " 14  year                          1200607 non-null  object \n",
      "dtypes: float64(7), object(8)\n",
      "memory usage: 137.4+ MB\n",
      "None\n",
      "   net_manager                        purchase_area             street  \\\n",
      "0  GAS Liander  GAS Gastransport Services (GASUNIE)      De Ruyterkade   \n",
      "1  GAS Liander  GAS Gastransport Services (GASUNIE)     Oosterdokskade   \n",
      "2  GAS Liander  GAS Gastransport Services (GASUNIE)  Prins Hendrikkade   \n",
      "3  GAS Liander  GAS Gastransport Services (GASUNIE)  Prins Hendrikkade   \n",
      "4  GAS Liander  GAS Gastransport Services (GASUNIE)  Prins Hendrikkade   \n",
      "\n",
      "  zipcode_from zipcode_to       city  num_connections  delivery_perc  \\\n",
      "0       1011AC     1011AC  AMSTERDAM             21.0          100.0   \n",
      "1       1011AD     1011AH  AMSTERDAM             35.0          100.0   \n",
      "2       1011AJ     1011AJ  AMSTERDAM             15.0          100.0   \n",
      "3       1011AM     1011AN  AMSTERDAM             25.0          100.0   \n",
      "4       1011AP     1011AP  AMSTERDAM             18.0          100.0   \n",
      "\n",
      "   perc_of_active_connections  type_conn_perc type_of_connection  \\\n",
      "0                       90.48            43.0                 G4   \n",
      "1                       94.29            89.0                 G4   \n",
      "2                       93.33            60.0                 G4   \n",
      "3                       96.00            88.0                 G4   \n",
      "4                      100.00            89.0                 G4   \n",
      "\n",
      "   annual_consume  annual_consume_lowtarif_perc  smartmeter_perc  year  \n",
      "0          6052.0                           0.0              0.0  2009  \n",
      "1          1933.0                           0.0              0.0  2009  \n",
      "2          1523.0                           0.0              0.0  2009  \n",
      "3          2103.0                           0.0              0.0  2009  \n",
      "4          2679.0                           0.0              0.0  2009  \n"
     ]
    }
   ],
   "source": [
    "liander_gas = glob.glob(gasPath + \"/liander_*.csv\") \n",
    "\n",
    "li = []\n",
    "\n",
    "for filename in liander_gas:\n",
    "    df = pd.read_csv(filename, index_col=None, header=0)\n",
    "    df['year'] = filename[-8:].strip('.csv')\n",
    "    li.append(df)\n",
    "\n",
    "lianderFrame = pd.concat(li, axis=0, ignore_index=True, sort=False)\n",
    "print(lianderFrame.info())\n",
    "print(lianderFrame.head())"
   ]
  },
  {
   "cell_type": "markdown",
   "metadata": {},
   "source": [
    "## Liander Elektriciteit"
   ]
  },
  {
   "cell_type": "code",
   "execution_count": 6,
   "metadata": {},
   "outputs": [
    {
     "name": "stdout",
     "output_type": "stream",
     "text": [
      "<class 'pandas.core.frame.DataFrame'>\n",
      "RangeIndex: 1511295 entries, 0 to 1511294\n",
      "Data columns (total 15 columns):\n",
      " #   Column                        Non-Null Count    Dtype  \n",
      "---  ------                        --------------    -----  \n",
      " 0   net_manager                   1511295 non-null  object \n",
      " 1   purchase_area                 624638 non-null   object \n",
      " 2   street                        1511295 non-null  object \n",
      " 3   zipcode_from                  1511295 non-null  object \n",
      " 4   zipcode_to                    1511295 non-null  object \n",
      " 5   city                          1511295 non-null  object \n",
      " 6   num_connections               1511295 non-null  float64\n",
      " 7   delivery_perc                 1511295 non-null  float64\n",
      " 8   perc_of_active_connections    1511295 non-null  float64\n",
      " 9   type_conn_perc                1511295 non-null  float64\n",
      " 10  type_of_connection            1511295 non-null  object \n",
      " 11  annual_consume                1511295 non-null  float64\n",
      " 12  annual_consume_lowtarif_perc  1511295 non-null  float64\n",
      " 13  smartmeter_perc               1511295 non-null  float64\n",
      " 14  year                          1511295 non-null  object \n",
      "dtypes: float64(7), object(8)\n",
      "memory usage: 173.0+ MB\n",
      "None\n",
      "         net_manager purchase_area             street zipcode_from zipcode_to  \\\n",
      "0  Liander N.V. (NW)    Liander NW       Rijksweg A44       1000AA     1011AA   \n",
      "1  Liander N.V. (NW)    Liander NW      De Ruyterkade       1011AB     1011AB   \n",
      "2  Liander N.V. (NW)    Liander NW      De Ruyterkade       1011AC     1011AC   \n",
      "3  Liander N.V. (NW)    Liander NW     Oosterdokskade       1011AD     1011AD   \n",
      "4  Liander N.V. (NW)    Liander NW  Oosterdokskade AB       1011AE     1011AE   \n",
      "\n",
      "           city  num_connections  delivery_perc  perc_of_active_connections  \\\n",
      "0  NIEUW VENNEP             15.0          100.0                       66.67   \n",
      "1     AMSTERDAM             23.0          100.0                       78.26   \n",
      "2     AMSTERDAM             31.0          100.0                       77.42   \n",
      "3     AMSTERDAM             21.0          100.0                       66.67   \n",
      "4     AMSTERDAM             15.0          100.0                       60.00   \n",
      "\n",
      "   type_conn_perc type_of_connection  annual_consume  \\\n",
      "0            47.0               3x25         12958.0   \n",
      "1            43.0               3x25         14761.0   \n",
      "2            58.0               3x25         12139.0   \n",
      "3            52.0               3x25          5082.0   \n",
      "4            93.0               3x25          3712.0   \n",
      "\n",
      "   annual_consume_lowtarif_perc  smartmeter_perc  year  \n",
      "0                         46.67              0.0  2009  \n",
      "1                         39.13              0.0  2009  \n",
      "2                         16.13              0.0  2009  \n",
      "3                         47.62              0.0  2009  \n",
      "4                         33.33              0.0  2009  \n"
     ]
    }
   ],
   "source": [
    "liander_elec = glob.glob(elecPath + \"/liander_*.csv\")\n",
    "li = []\n",
    "\n",
    "for filename in liander_elec:\n",
    "    df = pd.read_csv(filename, index_col=None, header=0)\n",
    "    df['year'] = filename[-8:].strip('.csv')\n",
    "    li.append(df)\n",
    "\n",
    "liander_Elec_Frame = pd.concat(li, axis=0, ignore_index=True, sort=False)\n",
    "print(liander_Elec_Frame.info())\n",
    "print(liander_Elec_Frame.head())"
   ]
  },
  {
   "cell_type": "markdown",
   "metadata": {},
   "source": [
    "## Enexis Gas"
   ]
  },
  {
   "cell_type": "code",
   "execution_count": 7,
   "metadata": {},
   "outputs": [
    {
     "name": "stdout",
     "output_type": "stream",
     "text": [
      "<class 'pandas.core.frame.DataFrame'>\n",
      "RangeIndex: 950202 entries, 0 to 950201\n",
      "Data columns (total 15 columns):\n",
      " #   Column                        Non-Null Count   Dtype  \n",
      "---  ------                        --------------   -----  \n",
      " 0   net_manager                   950202 non-null  object \n",
      " 1   purchase_area                 950202 non-null  object \n",
      " 2   street                        950202 non-null  object \n",
      " 3   zipcode_from                  950202 non-null  object \n",
      " 4   zipcode_to                    950202 non-null  object \n",
      " 5   city                          950202 non-null  object \n",
      " 6   delivery_perc                 950202 non-null  float64\n",
      " 7   num_connections               950202 non-null  int64  \n",
      " 8   perc_of_active_connections    950202 non-null  int64  \n",
      " 9   type_conn_perc                867236 non-null  float64\n",
      " 10  type_of_connection            867236 non-null  object \n",
      " 11  annual_consume                950202 non-null  float64\n",
      " 12  annual_consume_lowtarif_perc  950202 non-null  float64\n",
      " 13  smartmeter_perc               0 non-null       float64\n",
      " 14  year                          950202 non-null  object \n",
      "dtypes: float64(5), int64(2), object(8)\n",
      "memory usage: 108.7+ MB\n",
      "None\n",
      "   net_manager purchase_area             street zipcode_from zipcode_to  \\\n",
      "0  Enexis B.V.        ENEXIS    Antwerpsestraat       4611AC     4611AD   \n",
      "1  Enexis B.V.        ENEXIS    Antwerpsestraat       4611AE     4611AE   \n",
      "2  Enexis B.V.        ENEXIS    Antwerpsestraat       4611AG     4611AJ   \n",
      "3  Enexis B.V.        ENEXIS    Antwerpsestraat       4611AK     4611AK   \n",
      "4  Enexis B.V.        ENEXIS  Zuid - Oostsingel       4611AL     4611BA   \n",
      "\n",
      "             city  delivery_perc  num_connections  perc_of_active_connections  \\\n",
      "0  BERGEN OP ZOOM          100.0               17                         100   \n",
      "1  BERGEN OP ZOOM          100.0               11                         100   \n",
      "2  BERGEN OP ZOOM          100.0               24                         100   \n",
      "3  BERGEN OP ZOOM          100.0               14                         100   \n",
      "4  BERGEN OP ZOOM          100.0               23                         100   \n",
      "\n",
      "   type_conn_perc type_of_connection  annual_consume  \\\n",
      "0             NaN                NaN           496.0   \n",
      "1             NaN                NaN           355.0   \n",
      "2             NaN                NaN          3074.0   \n",
      "3             NaN                NaN         13456.0   \n",
      "4             NaN                NaN         10096.0   \n",
      "\n",
      "   annual_consume_lowtarif_perc  smartmeter_perc  year  \n",
      "0                           0.0              NaN  2010  \n",
      "1                           0.0              NaN  2010  \n",
      "2                           0.0              NaN  2010  \n",
      "3                           0.0              NaN  2010  \n",
      "4                           0.0              NaN  2010  \n"
     ]
    }
   ],
   "source": [
    "enexis_gas = glob.glob(gasPath + \"/enexis_*.csv\")\n",
    "li = []\n",
    "\n",
    "for filename in enexis_gas:\n",
    "    df = pd.read_csv(filename, index_col=None, header=0)\n",
    "    df['year'] = filename[-8:].strip('.csv')\n",
    "    li.append(df)\n",
    "\n",
    "enexisFrame = pd.concat(li, axis=0, ignore_index=True, sort=False)\n",
    "print(enexisFrame.info())\n",
    "print(enexisFrame.head())"
   ]
  },
  {
   "cell_type": "markdown",
   "metadata": {},
   "source": [
    "## Enexis Elektriciteit"
   ]
  },
  {
   "cell_type": "code",
   "execution_count": 8,
   "metadata": {},
   "outputs": [
    {
     "name": "stdout",
     "output_type": "stream",
     "text": [
      "<class 'pandas.core.frame.DataFrame'>\n",
      "RangeIndex: 1141402 entries, 0 to 1141401\n",
      "Data columns (total 15 columns):\n",
      " #   Column                        Non-Null Count    Dtype  \n",
      "---  ------                        --------------    -----  \n",
      " 0   net_manager                   1141402 non-null  object \n",
      " 1   purchase_area                 1141402 non-null  object \n",
      " 2   street                        1141402 non-null  object \n",
      " 3   zipcode_from                  1141402 non-null  object \n",
      " 4   zipcode_to                    1141402 non-null  object \n",
      " 5   city                          1141402 non-null  object \n",
      " 6   delivery_perc                 1140820 non-null  float64\n",
      " 7   num_connections               1141402 non-null  int64  \n",
      " 8   perc_of_active_connections    1141402 non-null  int64  \n",
      " 9   type_conn_perc                1033890 non-null  float64\n",
      " 10  type_of_connection            1033821 non-null  object \n",
      " 11  annual_consume                1141402 non-null  float64\n",
      " 12  annual_consume_lowtarif_perc  1141402 non-null  float64\n",
      " 13  smartmeter_perc               1141402 non-null  float64\n",
      " 14  year                          1141402 non-null  object \n",
      "dtypes: float64(5), int64(2), object(8)\n",
      "memory usage: 130.6+ MB\n",
      "None\n",
      "   net_manager purchase_area     street zipcode_from zipcode_to       city  \\\n",
      "0  Enexis B.V.        ENEXIS    Sasdijk       4251AB     4251AB  WERKENDAM   \n",
      "1  Enexis B.V.        ENEXIS    Sasdijk       4251AC     4251AC  WERKENDAM   \n",
      "2  Enexis B.V.        ENEXIS    Sasdijk       4251AD     4251AD  WERKENDAM   \n",
      "3  Enexis B.V.        ENEXIS  Nieuweweg       4251AE     4251AG  WERKENDAM   \n",
      "4  Enexis B.V.        ENEXIS  Koppenhof       4251AH     4251AH  WERKENDAM   \n",
      "\n",
      "   delivery_perc  num_connections  perc_of_active_connections  type_conn_perc  \\\n",
      "0          100.0               16                         100             NaN   \n",
      "1          100.0               11                         100             NaN   \n",
      "2          100.0               30                         100             NaN   \n",
      "3          100.0               21                         100             NaN   \n",
      "4          100.0               12                         100             NaN   \n",
      "\n",
      "  type_of_connection  annual_consume  annual_consume_lowtarif_perc  \\\n",
      "0                NaN          4282.0                          25.0   \n",
      "1                NaN          5113.0                          10.0   \n",
      "2                NaN          4809.0                          34.0   \n",
      "3                NaN          5015.0                          44.0   \n",
      "4                NaN          3074.0                          22.0   \n",
      "\n",
      "   smartmeter_perc  year  \n",
      "0              0.0  2010  \n",
      "1              0.0  2010  \n",
      "2              0.0  2010  \n",
      "3              0.0  2010  \n",
      "4              0.0  2010  \n"
     ]
    }
   ],
   "source": [
    "enexis_elec = glob.glob(elecPath + \"/enexis_*.csv\")\n",
    "li = []\n",
    "\n",
    "for filename in enexis_elec:\n",
    "    df = pd.read_csv(filename, index_col=None, header=0)\n",
    "    df['year'] = filename[-8:].strip('.csv')\n",
    "    li.append(df)\n",
    "\n",
    "enexis_Elec_Frame = pd.concat(li, axis=0, ignore_index=True, sort=False)\n",
    "print(enexis_Elec_Frame.info())\n",
    "print(enexis_Elec_Frame.head())"
   ]
  },
  {
   "cell_type": "code",
   "execution_count": 9,
   "metadata": {},
   "outputs": [
    {
     "name": "stdout",
     "output_type": "stream",
     "text": [
      "<class 'pandas.core.frame.DataFrame'>\n",
      "Int64Index: 3085757 entries, 0 to 950201\n",
      "Data columns (total 15 columns):\n",
      " #   Column                        Dtype  \n",
      "---  ------                        -----  \n",
      " 0   annual_consume                float64\n",
      " 1   annual_consume_lowtarif_perc  float64\n",
      " 2   city                          object \n",
      " 3   delivery_perc                 float64\n",
      " 4   net_manager                   object \n",
      " 5   num_connections               float64\n",
      " 6   perc_of_active_connections    float64\n",
      " 7   purchase_area                 object \n",
      " 8   smartmeter_perc               float64\n",
      " 9   street                        object \n",
      " 10  type_conn_perc                float64\n",
      " 11  type_of_connection            object \n",
      " 12  year                          object \n",
      " 13  zipcode_from                  object \n",
      " 14  zipcode_to                    object \n",
      "dtypes: float64(7), object(8)\n",
      "memory usage: 376.7+ MB\n",
      "None\n",
      "   annual_consume  annual_consume_lowtarif_perc          city  delivery_perc  \\\n",
      "0          2611.0                           0.0     AMSTERDAM          100.0   \n",
      "1          2993.0                           0.0     AMSTERDAM          100.0   \n",
      "2          5400.0                           0.0  DUIVENDRECHT          100.0   \n",
      "3          5393.0                           0.0  DUIVENDRECHT          100.0   \n",
      "4          2128.0                           0.0  DUIVENDRECHT          100.0   \n",
      "\n",
      "     net_manager  num_connections  perc_of_active_connections purchase_area  \\\n",
      "0  8716892700004             26.0                       100.0  Duivendrecht   \n",
      "1  8716892720002             26.0                       100.0       Halfweg   \n",
      "2  8716892700004             20.0                        95.0  Duivendrecht   \n",
      "3  8716892700004             22.0                       100.0  Duivendrecht   \n",
      "4  8716892700004             11.0                       100.0  Duivendrecht   \n",
      "\n",
      "   smartmeter_perc           street  type_conn_perc type_of_connection  year  \\\n",
      "0              0.0  Tom Schreursweg            92.0                 G4  2009   \n",
      "1              0.0  Tom Schreursweg            92.0                 G4  2009   \n",
      "2              0.0        Molenkade            75.0                 G4  2009   \n",
      "3              0.0     Industrieweg            64.0                 G4  2009   \n",
      "4              0.0   Rijksstraatweg           100.0                 G4  2009   \n",
      "\n",
      "  zipcode_from zipcode_to  \n",
      "0       1067MC     1115AB  \n",
      "1       1067MC     1115AB  \n",
      "2       1115AC     1115AC  \n",
      "3       1115AD     1115AG  \n",
      "4       1115AH     1115AH  \n"
     ]
    }
   ],
   "source": [
    "gasFrame = pd.concat([stedinFrame, lianderFrame, enexisFrame], sort=True)\n",
    "print(gasFrame.info())\n",
    "print(gasFrame.head())"
   ]
  },
  {
   "cell_type": "code",
   "execution_count": 10,
   "metadata": {},
   "outputs": [
    {
     "name": "stdout",
     "output_type": "stream",
     "text": [
      "2219\n",
      "Index([''S GRAVENDEEL', ''S GRAVENHAGE', ''S GRAVENMOER', ''S-GRAVELAND',\n",
      "       ''S-GRAVENDEEL', ''S-GRAVENHAGE', ''S-HEERENBERG', ''S-HEERENBROEK',\n",
      "       ''S-HERTOGENBOSCH', ''T GOY',\n",
      "       ...\n",
      "       'ZWANENBURG', 'ZWARTEBROEK', 'ZWARTEMEER', 'ZWARTEWAAL', 'ZWEELOO',\n",
      "       'ZWEINS', 'ZWIGGELTE', 'ZWIJNDRECHT', 'ZWOLLE', '\\'T LOO OLDEBROEK'],\n",
      "      dtype='object', name='city', length=2219)\n"
     ]
    }
   ],
   "source": [
    "uniqueCities = gasFrame.set_index('city').index.unique().sort_values()\n",
    "print(len(uniqueCities))\n",
    "print(uniqueCities)\n",
    "\n",
    "# We see that not all cities are written the same way. i.e. 'S-GRAVENHAGE, 'S GRAVENHAGE, S- GRAVENHAGE, S-GRAVENHAGE etc."
   ]
  },
  {
   "cell_type": "markdown",
   "metadata": {},
   "source": [
    "# Data Preparation"
   ]
  },
  {
   "cell_type": "markdown",
   "metadata": {},
   "source": [
    "### Gas"
   ]
  },
  {
   "cell_type": "code",
   "execution_count": 11,
   "metadata": {},
   "outputs": [
    {
     "name": "stdout",
     "output_type": "stream",
     "text": [
      "Empty DataFrame\n",
      "Columns: [annual_consume, annual_consume_lowtarif_perc, city, delivery_perc, net_manager, num_connections, perc_of_active_connections, purchase_area, smartmeter_perc, street, type_conn_perc, type_of_connection, year, zipcode_from, zipcode_to]\n",
      "Index: []\n"
     ]
    }
   ],
   "source": [
    "# df.loc[~df['city'].str.contains('S-', na=False), 'city'] = df.loc[~df['city'].str.contains('S-', na=False), 'city'].str.replace('S-', 'bla')\n",
    "\n",
    "gasFrame.loc[gasFrame['city'].str.startswith('\\'S-'), 'city'] = gasFrame.loc[gasFrame['city'].str.startswith('\\'S-'), 'city'].str.replace('\\'S-', 'S-')\n",
    "gasFrame.loc[gasFrame['city'].str.startswith('S-'), 'city'] = gasFrame.loc[gasFrame['city'].str.startswith('S-'), 'city'].str.replace('S-', 'S-')\n",
    "gasFrame.loc[gasFrame['city'].str.startswith('\\'S- '), 'city'] = gasFrame.loc[gasFrame['city'].str.startswith('\\'S- '), 'city'].str.replace('\\'S- ', 'S-')\n",
    "gasFrame.loc[gasFrame['city'].str.startswith('S '), 'city'] = gasFrame.loc[gasFrame['city'].str.startswith('S '), 'city'].str.replace('S ', 'S-')\n",
    "gasFrame.loc[gasFrame['city'].str.startswith('\\'S '), 'city'] = gasFrame.loc[gasFrame['city'].str.startswith('\\'S '), 'city'].str.replace('\\'S ', 'S-')\n",
    "\n",
    "print(gasFrame.loc[gasFrame['city'].str.contains('\\'S GRAVENHAGE')])"
   ]
  },
  {
   "cell_type": "code",
   "execution_count": 12,
   "metadata": {},
   "outputs": [
    {
     "name": "stdout",
     "output_type": "stream",
     "text": [
      "2216\n",
      "Index([''T GOY', ''T HAANTJE', ''T HARDE', ''T LOO OLDEBROEK', ''T VELD',\n",
      "       ''T WAAR', ''T ZAND NH', ''T ZANDT GN', '1E EXLOERMOND',\n",
      "       '2E EXLOERMOND',\n",
      "       ...\n",
      "       'ZWANENBURG', 'ZWARTEBROEK', 'ZWARTEMEER', 'ZWARTEWAAL', 'ZWEELOO',\n",
      "       'ZWEINS', 'ZWIGGELTE', 'ZWIJNDRECHT', 'ZWOLLE', '\\'T LOO OLDEBROEK'],\n",
      "      dtype='object', name='city', length=2216)\n"
     ]
    }
   ],
   "source": [
    "cleanedUniqueCities = gasFrame.set_index('city').index.unique().sort_values()\n",
    "print(len(cleanedUniqueCities))\n",
    "print(cleanedUniqueCities)"
   ]
  },
  {
   "cell_type": "markdown",
   "metadata": {},
   "source": [
    "### Elektriciteit"
   ]
  },
  {
   "cell_type": "code",
   "execution_count": 13,
   "metadata": {},
   "outputs": [
    {
     "name": "stdout",
     "output_type": "stream",
     "text": [
      "<class 'pandas.core.frame.DataFrame'>\n",
      "Int64Index: 3565790 entries, 1 to 1141401\n",
      "Data columns (total 15 columns):\n",
      " #   Column                        Dtype  \n",
      "---  ------                        -----  \n",
      " 0   net_manager                   object \n",
      " 1   purchase_area                 object \n",
      " 2   street                        object \n",
      " 3   zipcode_from                  object \n",
      " 4   zipcode_to                    object \n",
      " 5   city                          object \n",
      " 6   num_connections               float64\n",
      " 7   delivery_perc                 float64\n",
      " 8   perc_of_active_connections    float64\n",
      " 9   type_conn_perc                float64\n",
      " 10  type_of_connection            object \n",
      " 11  annual_consume                float64\n",
      " 12  annual_consume_lowtarif_perc  float64\n",
      " 13  smartmeter_perc               float64\n",
      " 14  year                          object \n",
      "dtypes: float64(7), object(8)\n",
      "memory usage: 435.3+ MB\n",
      "None\n"
     ]
    },
    {
     "data": {
      "text/html": [
       "<div>\n",
       "<style scoped>\n",
       "    .dataframe tbody tr th:only-of-type {\n",
       "        vertical-align: middle;\n",
       "    }\n",
       "\n",
       "    .dataframe tbody tr th {\n",
       "        vertical-align: top;\n",
       "    }\n",
       "\n",
       "    .dataframe thead th {\n",
       "        text-align: right;\n",
       "    }\n",
       "</style>\n",
       "<table border=\"1\" class=\"dataframe\">\n",
       "  <thead>\n",
       "    <tr style=\"text-align: right;\">\n",
       "      <th></th>\n",
       "      <th>net_manager</th>\n",
       "      <th>purchase_area</th>\n",
       "      <th>street</th>\n",
       "      <th>zipcode_from</th>\n",
       "      <th>zipcode_to</th>\n",
       "      <th>city</th>\n",
       "      <th>num_connections</th>\n",
       "      <th>delivery_perc</th>\n",
       "      <th>perc_of_active_connections</th>\n",
       "      <th>type_conn_perc</th>\n",
       "      <th>type_of_connection</th>\n",
       "      <th>annual_consume</th>\n",
       "      <th>annual_consume_lowtarif_perc</th>\n",
       "      <th>smartmeter_perc</th>\n",
       "      <th>year</th>\n",
       "    </tr>\n",
       "  </thead>\n",
       "  <tbody>\n",
       "    <tr>\n",
       "      <th>1</th>\n",
       "      <td>8716874000009</td>\n",
       "      <td>Stedin Utrecht</td>\n",
       "      <td>Rembrandtlaan</td>\n",
       "      <td>1231AC</td>\n",
       "      <td>1231AC</td>\n",
       "      <td>LOOSDRECHT</td>\n",
       "      <td>17.0</td>\n",
       "      <td>100.0</td>\n",
       "      <td>100.0</td>\n",
       "      <td>41.0</td>\n",
       "      <td>1x25</td>\n",
       "      <td>3467.0</td>\n",
       "      <td>76.47</td>\n",
       "      <td>0.00</td>\n",
       "      <td>2009</td>\n",
       "    </tr>\n",
       "    <tr>\n",
       "      <th>2</th>\n",
       "      <td>8716874000009</td>\n",
       "      <td>Stedin Utrecht</td>\n",
       "      <td>Rembrandtlaan</td>\n",
       "      <td>1231AD</td>\n",
       "      <td>1231AD</td>\n",
       "      <td>LOOSDRECHT</td>\n",
       "      <td>17.0</td>\n",
       "      <td>100.0</td>\n",
       "      <td>100.0</td>\n",
       "      <td>41.0</td>\n",
       "      <td>3x25</td>\n",
       "      <td>3880.0</td>\n",
       "      <td>64.71</td>\n",
       "      <td>0.00</td>\n",
       "      <td>2009</td>\n",
       "    </tr>\n",
       "    <tr>\n",
       "      <th>3</th>\n",
       "      <td>8716874000009</td>\n",
       "      <td>Stedin Utrecht</td>\n",
       "      <td>Jan Steenlaan</td>\n",
       "      <td>1231AE</td>\n",
       "      <td>1231AE</td>\n",
       "      <td>LOOSDRECHT</td>\n",
       "      <td>20.0</td>\n",
       "      <td>100.0</td>\n",
       "      <td>100.0</td>\n",
       "      <td>45.0</td>\n",
       "      <td>1x25</td>\n",
       "      <td>4699.0</td>\n",
       "      <td>85.00</td>\n",
       "      <td>0.00</td>\n",
       "      <td>2009</td>\n",
       "    </tr>\n",
       "    <tr>\n",
       "      <th>4</th>\n",
       "      <td>8716874000009</td>\n",
       "      <td>Stedin Utrecht</td>\n",
       "      <td>Pieter de Hooghlaan</td>\n",
       "      <td>1231AG</td>\n",
       "      <td>1231AG</td>\n",
       "      <td>LOOSDRECHT</td>\n",
       "      <td>17.0</td>\n",
       "      <td>100.0</td>\n",
       "      <td>100.0</td>\n",
       "      <td>71.0</td>\n",
       "      <td>1x25</td>\n",
       "      <td>4039.0</td>\n",
       "      <td>64.71</td>\n",
       "      <td>0.00</td>\n",
       "      <td>2009</td>\n",
       "    </tr>\n",
       "    <tr>\n",
       "      <th>5</th>\n",
       "      <td>8716874000009</td>\n",
       "      <td>Stedin Utrecht</td>\n",
       "      <td>Paulus Potterlaan</td>\n",
       "      <td>1231AH</td>\n",
       "      <td>1231AH</td>\n",
       "      <td>LOOSDRECHT</td>\n",
       "      <td>22.0</td>\n",
       "      <td>100.0</td>\n",
       "      <td>100.0</td>\n",
       "      <td>41.0</td>\n",
       "      <td>3x25</td>\n",
       "      <td>3991.0</td>\n",
       "      <td>86.36</td>\n",
       "      <td>4.55</td>\n",
       "      <td>2009</td>\n",
       "    </tr>\n",
       "  </tbody>\n",
       "</table>\n",
       "</div>"
      ],
      "text/plain": [
       "     net_manager   purchase_area               street zipcode_from zipcode_to  \\\n",
       "1  8716874000009  Stedin Utrecht        Rembrandtlaan       1231AC     1231AC   \n",
       "2  8716874000009  Stedin Utrecht        Rembrandtlaan       1231AD     1231AD   \n",
       "3  8716874000009  Stedin Utrecht        Jan Steenlaan       1231AE     1231AE   \n",
       "4  8716874000009  Stedin Utrecht  Pieter de Hooghlaan       1231AG     1231AG   \n",
       "5  8716874000009  Stedin Utrecht    Paulus Potterlaan       1231AH     1231AH   \n",
       "\n",
       "         city  num_connections  delivery_perc  perc_of_active_connections  \\\n",
       "1  LOOSDRECHT             17.0          100.0                       100.0   \n",
       "2  LOOSDRECHT             17.0          100.0                       100.0   \n",
       "3  LOOSDRECHT             20.0          100.0                       100.0   \n",
       "4  LOOSDRECHT             17.0          100.0                       100.0   \n",
       "5  LOOSDRECHT             22.0          100.0                       100.0   \n",
       "\n",
       "   type_conn_perc type_of_connection  annual_consume  \\\n",
       "1            41.0               1x25          3467.0   \n",
       "2            41.0               3x25          3880.0   \n",
       "3            45.0               1x25          4699.0   \n",
       "4            71.0               1x25          4039.0   \n",
       "5            41.0               3x25          3991.0   \n",
       "\n",
       "   annual_consume_lowtarif_perc  smartmeter_perc  year  \n",
       "1                         76.47             0.00  2009  \n",
       "2                         64.71             0.00  2009  \n",
       "3                         85.00             0.00  2009  \n",
       "4                         64.71             0.00  2009  \n",
       "5                         86.36             4.55  2009  "
      ]
     },
     "execution_count": 13,
     "metadata": {},
     "output_type": "execute_result"
    }
   ],
   "source": [
    "elecFrame = pd.concat([stedin_Elec_Frame.drop(0), liander_Elec_Frame.drop(0), enexis_Elec_Frame.drop(0)], sort=False) \n",
    "# zonder drop blijven de indexes van de originele dataframes er in staan, dit resulteert er in dat er 3 dataframes met index 0 voorkomen\n",
    "\n",
    "print(elecFrame.info())\n",
    "elecFrame.head()"
   ]
  },
  {
   "cell_type": "markdown",
   "metadata": {},
   "source": [
    "# Modeling"
   ]
  },
  {
   "cell_type": "code",
   "execution_count": 14,
   "metadata": {},
   "outputs": [],
   "source": [
    "import seaborn as sns\n",
    "import matplotlib.pyplot as plt"
   ]
  },
  {
   "cell_type": "code",
   "execution_count": 15,
   "metadata": {},
   "outputs": [
    {
     "name": "stdout",
     "output_type": "stream",
     "text": [
      "2216\n"
     ]
    },
    {
     "data": {
      "image/png": "[encoded data removed]",
      "text/plain": [
       "<Figure size 1440x576 with 1 Axes>"
      ]
     },
     "metadata": {
      "needs_background": "light"
     },
     "output_type": "display_data"
    }
   ],
   "source": [
    "totalConsumePerCity = gasFrame.groupby(['city'])['annual_consume'].sum().sort_values(ascending=False)\n",
    "print(totalConsumePerCity.count())\n",
    "\n",
    "fig, ax = plt.subplots(1,1, figsize=(20, 8))\n",
    "totalConsumePerCity.head(10).sort_values().plot(kind='barh', title='Top 10 gas verbruikers')\n",
    "plt.show()\n",
    "\n"
   ]
  },
  {
   "cell_type": "code",
   "execution_count": 16,
   "metadata": {},
   "outputs": [
    {
     "name": "stdout",
     "output_type": "stream",
     "text": [
      "                   annual_consume\n",
      "city         year                \n",
      "AMSTERDAM    2009      21207890.0\n",
      "             2010      20709331.0\n",
      "             2011      20519046.0\n",
      "             2012      20092209.0\n",
      "             2018      19872346.0\n",
      "             2017      19843106.0\n",
      "             2019      19756096.0\n",
      "             2013      19729478.0\n",
      "             2016      19692292.0\n",
      "             2014      19611220.0\n",
      "             2015      19045143.0\n",
      "S-GRAVENHAGE 2012      16096740.0\n",
      "             2011      16066621.0\n",
      "             2010      16008771.0\n",
      "             2013      15989971.0\n",
      "             2009      15939257.0\n",
      "             2014      15817468.0\n",
      "             2015      15465195.0\n",
      "             2016      15107041.0\n",
      "             2017      14934377.0\n",
      "             2018      14887976.0\n",
      "             2019      14592378.0\n",
      "ROTTERDAM    2012      12666962.0\n",
      "             2011      12647799.0\n",
      "             2010      12618760.0\n",
      "             2009      12563632.0\n",
      "             2013      12539960.0\n",
      "             2014      12512475.0\n",
      "             2015      12138757.0\n",
      "             2016      11872631.0\n",
      "             2018      11706957.0\n",
      "             2017      11692522.0\n",
      "             2019      11286191.0\n",
      "            city  year  annual_consume\n",
      "0      AMSTERDAM  2009      21207890.0\n",
      "1      AMSTERDAM  2010      20709331.0\n",
      "2      AMSTERDAM  2011      20519046.0\n",
      "3      AMSTERDAM  2012      20092209.0\n",
      "4      AMSTERDAM  2018      19872346.0\n",
      "5      AMSTERDAM  2017      19843106.0\n",
      "6      AMSTERDAM  2019      19756096.0\n",
      "7      AMSTERDAM  2013      19729478.0\n",
      "8      AMSTERDAM  2016      19692292.0\n",
      "9      AMSTERDAM  2014      19611220.0\n",
      "10     AMSTERDAM  2015      19045143.0\n",
      "11  S-GRAVENHAGE  2012      16096740.0\n",
      "12  S-GRAVENHAGE  2011      16066621.0\n",
      "13  S-GRAVENHAGE  2010      16008771.0\n",
      "14  S-GRAVENHAGE  2013      15989971.0\n",
      "15  S-GRAVENHAGE  2009      15939257.0\n",
      "16  S-GRAVENHAGE  2014      15817468.0\n",
      "17  S-GRAVENHAGE  2015      15465195.0\n",
      "18  S-GRAVENHAGE  2016      15107041.0\n",
      "19  S-GRAVENHAGE  2017      14934377.0\n",
      "20  S-GRAVENHAGE  2018      14887976.0\n",
      "21  S-GRAVENHAGE  2019      14592378.0\n",
      "22     ROTTERDAM  2012      12666962.0\n",
      "23     ROTTERDAM  2011      12647799.0\n",
      "24     ROTTERDAM  2010      12618760.0\n",
      "25     ROTTERDAM  2009      12563632.0\n",
      "26     ROTTERDAM  2013      12539960.0\n",
      "27     ROTTERDAM  2014      12512475.0\n",
      "28     ROTTERDAM  2015      12138757.0\n",
      "29     ROTTERDAM  2016      11872631.0\n",
      "30     ROTTERDAM  2018      11706957.0\n",
      "31     ROTTERDAM  2017      11692522.0\n",
      "32     ROTTERDAM  2019      11286191.0\n"
     ]
    }
   ],
   "source": [
    "sortedCities = gasFrame.groupby(['city', 'year'])[['annual_consume','year']].sum().sort_values(['annual_consume', 'year'], ascending=[False, False])\n",
    "top3 = sortedCities.loc[['AMSTERDAM', 'S-GRAVENHAGE', 'ROTTERDAM']]\n",
    "\n",
    "print(top3)\n",
    "top3 = top3.reset_index()\n",
    "print(top3)"
   ]
  },
  {
   "cell_type": "code",
   "execution_count": 17,
   "metadata": {},
   "outputs": [
    {
     "data": {
      "image/png": "[encoded data removed]",
      "text/plain": [
       "<Figure size 432x288 with 1 Axes>"
      ]
     },
     "metadata": {
      "needs_background": "light"
     },
     "output_type": "display_data"
    }
   ],
   "source": [
    "top3 = top3.sort_values(['city', 'year'])\n",
    "\n",
    "x1 = top3[top3['city'] == 'AMSTERDAM']['year']\n",
    "y1 = top3[top3['city'] == 'AMSTERDAM']['annual_consume']/10000\n",
    "plt.plot(x1, y1, label = \"Damsco\")\n",
    "\n",
    "x2 = top3[top3['city'] == 'S-GRAVENHAGE']['year']\n",
    "y2 = top3[top3['city'] == 'S-GRAVENHAGE']['annual_consume']/10000\n",
    "plt.plot(x2, y2, label = \"The Hague\")\n",
    "\n",
    "x3 = top3[top3['city'] == 'ROTTERDAM']['year']\n",
    "y3 = top3[top3['city'] == 'ROTTERDAM']['annual_consume']/10000\n",
    "plt.plot(x3, y3, label = \"Roffa\")\n",
    "\n",
    "plt.title('Yearly consume * 10000')\n",
    "plt.xlabel('year')\n",
    "plt.ylabel('annual consume')\n",
    "\n",
    "plt.legend()\n",
    "plt.show()"
   ]
  },
  {
   "cell_type": "code",
   "execution_count": 183,
   "metadata": {},
   "outputs": [],
   "source": [
    "from sklearn.linear_model import LinearRegression\n",
    "from sklearn.model_selection import train_test_split "
   ]
  },
  {
   "cell_type": "code",
   "execution_count": 179,
   "metadata": {},
   "outputs": [
    {
     "data": {
      "image/png": "[encoded data removed]",
      "text/plain": [
       "<Figure size 432x288 with 1 Axes>"
      ]
     },
     "metadata": {
      "needs_background": "light"
     },
     "output_type": "display_data"
    },
    {
     "name": "stdout",
     "output_type": "stream",
     "text": [
      "inercept  [3.15421296e+08]\n",
      "coeff  [[-146686.51190476]]\n",
      "       Actual     Predicted\n",
      "0  19729478.0  2.014135e+07\n",
      "1  19872346.0  1.940791e+07\n",
      "2  20519046.0  2.043472e+07\n"
     ]
    },
    {
     "name": "stderr",
     "output_type": "stream",
     "text": [
      "C:\\Users\\mlandwer\\Anaconda3\\lib\\site-packages\\ipykernel_launcher.py:5: SettingWithCopyWarning: \n",
      "A value is trying to be set on a copy of a slice from a DataFrame.\n",
      "Try using .loc[row_indexer,col_indexer] = value instead\n",
      "\n",
      "See the caveats in the documentation: https://pandas.pydata.org/pandas-docs/stable/user_guide/indexing.html#returning-a-view-versus-a-copy\n",
      "  \"\"\"\n"
     ]
    },
    {
     "data": {
      "image/png": "[encoded data removed]",
      "text/plain": [
       "<Figure size 504x216 with 1 Axes>"
      ]
     },
     "metadata": {
      "needs_background": "light"
     },
     "output_type": "display_data"
    },
    {
     "name": "stdout",
     "output_type": "stream",
     "text": [
      "         city  year  annual_consume\n",
      "0   AMSTERDAM  2009    2.120789e+07\n",
      "1   AMSTERDAM  2010    2.070933e+07\n",
      "2   AMSTERDAM  2011    2.051905e+07\n",
      "3   AMSTERDAM  2012    2.009221e+07\n",
      "4   AMSTERDAM  2013    1.972948e+07\n",
      "5   AMSTERDAM  2014    1.961122e+07\n",
      "6   AMSTERDAM  2015    1.904514e+07\n",
      "7   AMSTERDAM  2016    1.969229e+07\n",
      "8   AMSTERDAM  2017    1.984311e+07\n",
      "9   AMSTERDAM  2018    1.987235e+07\n",
      "10  AMSTERDAM  2019    1.975610e+07\n",
      "11  AMSTERDAM  2020    2.014135e+07\n",
      "12  AMSTERDAM  2021    1.940791e+07\n",
      "13  AMSTERDAM  2022    2.043472e+07\n"
     ]
    }
   ],
   "source": [
    "amsterdam = top3[top3['city'] == 'AMSTERDAM']\n",
    "plt.scatter(amsterdam['year'], amsterdam['annual_consume'])\n",
    "plt.show()\n",
    "\n",
    "amsterdam['year'] = amsterdam['year'].astype(int)\n",
    "\n",
    "X = amsterdam['year'].values.reshape(-1,1)\n",
    "y = amsterdam['annual_consume'].values.reshape(-1,1)\n",
    "\n",
    "X_train, X_test, y_train, y_test = train_test_split(X, y, test_size=0.2, random_state=0)\n",
    "\n",
    "model = LinearRegression().fit(X_train, y_train)\n",
    "\n",
    "print('inercept ', model.intercept_)\n",
    "print('coeff ', model.coef_)\n",
    "\n",
    "y_pred = model.predict(X_test)\n",
    "df = pd.DataFrame({'Actual': y_test.flatten(), 'Predicted': y_pred.flatten()})\n",
    "print(df)\n",
    "\n",
    "plt.figure(figsize=(7,3))\n",
    "\n",
    "plt.scatter(X_test, y_test,  color='gray')\n",
    "plt.plot(X_test, y_pred, color='red', linewidth=2)\n",
    "plt.show()\n",
    "\n",
    "new_X = [[2020], [2021], [2022]]\n",
    "new_pred = model.predict(new_X) \n",
    "new_annual = pd.DataFrame({'city': 'AMSTERDAM', 'year' : [2020, 2021, 2022], 'annual_consume': y_pred.flatten()})\n",
    "\n",
    "combined_adam = pd.concat([amsterdam, new_annual], ignore_index=True, axis=0)\n",
    "print(combined_adam)"
   ]
  },
  {
   "cell_type": "code",
   "execution_count": 177,
   "metadata": {},
   "outputs": [
    {
     "data": {
      "image/png": "[encoded data removed]",
      "text/plain": [
       "<Figure size 432x288 with 1 Axes>"
      ]
     },
     "metadata": {
      "needs_background": "light"
     },
     "output_type": "display_data"
    },
    {
     "name": "stdout",
     "output_type": "stream",
     "text": [
      "inercept  [3.14731221e+08]\n",
      "coeff  [[-148577.98809524]]\n",
      "       Actual     Predicted\n",
      "0  15989971.0  1.564373e+07\n",
      "1  14887976.0  1.490084e+07\n",
      "2  16066621.0  1.594089e+07\n"
     ]
    },
    {
     "name": "stderr",
     "output_type": "stream",
     "text": [
      "C:\\Users\\mlandwer\\Anaconda3\\lib\\site-packages\\ipykernel_launcher.py:5: SettingWithCopyWarning: \n",
      "A value is trying to be set on a copy of a slice from a DataFrame.\n",
      "Try using .loc[row_indexer,col_indexer] = value instead\n",
      "\n",
      "See the caveats in the documentation: https://pandas.pydata.org/pandas-docs/stable/user_guide/indexing.html#returning-a-view-versus-a-copy\n",
      "  \"\"\"\n"
     ]
    },
    {
     "data": {
      "image/png": "[encoded data removed]",
      "text/plain": [
       "<Figure size 504x216 with 1 Axes>"
      ]
     },
     "metadata": {
      "needs_background": "light"
     },
     "output_type": "display_data"
    },
    {
     "name": "stdout",
     "output_type": "stream",
     "text": [
      "            city  year  annual_consume\n",
      "0   S-GRAVENHAGE  2009    1.593926e+07\n",
      "1   S-GRAVENHAGE  2010    1.600877e+07\n",
      "2   S-GRAVENHAGE  2011    1.606662e+07\n",
      "3   S-GRAVENHAGE  2012    1.609674e+07\n",
      "4   S-GRAVENHAGE  2013    1.598997e+07\n",
      "5   S-GRAVENHAGE  2014    1.581747e+07\n",
      "6   S-GRAVENHAGE  2015    1.546520e+07\n",
      "7   S-GRAVENHAGE  2016    1.510704e+07\n",
      "8   S-GRAVENHAGE  2017    1.493438e+07\n",
      "9   S-GRAVENHAGE  2018    1.488798e+07\n",
      "10  S-GRAVENHAGE  2019    1.459238e+07\n",
      "11  S-GRAVENHAGE  2020    1.564373e+07\n",
      "12  S-GRAVENHAGE  2021    1.490084e+07\n",
      "13  S-GRAVENHAGE  2022    1.594089e+07\n"
     ]
    }
   ],
   "source": [
    "denhaag = top3[top3['city'] == 'S-GRAVENHAGE']\n",
    "plt.scatter(denhaag['year'], denhaag['annual_consume'])\n",
    "plt.show()\n",
    "\n",
    "denhaag['year'] = denhaag['year'].astype(int)\n",
    "\n",
    "X = denhaag['year'].values.reshape(-1,1)\n",
    "y = denhaag['annual_consume'].values.reshape(-1,1)\n",
    "\n",
    "X_train, X_test, y_train, y_test = train_test_split(X, y, test_size=0.2, random_state=0)\n",
    "\n",
    "model = LinearRegression().fit(X_train, y_train)\n",
    "\n",
    "print('inercept ', model.intercept_)\n",
    "print('coeff ', model.coef_)\n",
    "\n",
    "y_pred = model.predict(X_test)\n",
    "df = pd.DataFrame({'Actual': y_test.flatten(), 'Predicted': y_pred.flatten()})\n",
    "print(df)\n",
    "\n",
    "plt.figure(figsize=(7,3))\n",
    "\n",
    "plt.scatter(X_test, y_test,  color='gray')\n",
    "plt.plot(X_test, y_pred, color='red', linewidth=2)\n",
    "plt.show()\n",
    "\n",
    "new_X = [[2020], [2021], [2022]]\n",
    "new_pred = model.predict(new_X) \n",
    "new_annual = pd.DataFrame({'city': 'S-GRAVENHAGE', 'year' : [2020, 2021, 2022], 'annual_consume': y_pred.flatten()})\n",
    "\n",
    "combined_denhaag = pd.concat([denhaag, new_annual], ignore_index=True, axis=0)\n",
    "print(combined_denhaag)"
   ]
  },
  {
   "cell_type": "code",
   "execution_count": 180,
   "metadata": {},
   "outputs": [
    {
     "data": {
      "image/png": "[encoded data removed]",
      "text/plain": [
       "<Figure size 432x288 with 1 Axes>"
      ]
     },
     "metadata": {
      "needs_background": "light"
     },
     "output_type": "display_data"
    },
    {
     "name": "stdout",
     "output_type": "stream",
     "text": [
      "inercept  [2.81531517e+08]\n",
      "coeff  [[-133745.04761905]]\n",
      "       Actual     Predicted\n",
      "0  12539960.0  1.230274e+07\n",
      "1  11706957.0  1.163401e+07\n",
      "2  12647799.0  1.257023e+07\n"
     ]
    },
    {
     "name": "stderr",
     "output_type": "stream",
     "text": [
      "C:\\Users\\mlandwer\\Anaconda3\\lib\\site-packages\\ipykernel_launcher.py:5: SettingWithCopyWarning: \n",
      "A value is trying to be set on a copy of a slice from a DataFrame.\n",
      "Try using .loc[row_indexer,col_indexer] = value instead\n",
      "\n",
      "See the caveats in the documentation: https://pandas.pydata.org/pandas-docs/stable/user_guide/indexing.html#returning-a-view-versus-a-copy\n",
      "  \"\"\"\n"
     ]
    },
    {
     "data": {
      "image/png": "[encoded data removed]",
      "text/plain": [
       "<Figure size 504x216 with 1 Axes>"
      ]
     },
     "metadata": {
      "needs_background": "light"
     },
     "output_type": "display_data"
    }
   ],
   "source": [
    "rotterdam = top3[top3['city'] == 'ROTTERDAM']\n",
    "plt.scatter(rotterdam['year'], rotterdam['annual_consume'])\n",
    "plt.show()\n",
    "\n",
    "rotterdam['year'] = rotterdam['year'].astype(int)\n",
    "\n",
    "X = rotterdam['year'].values.reshape(-1,1)\n",
    "y = rotterdam['annual_consume'].values.reshape(-1,1)\n",
    "\n",
    "X_train, X_test, y_train, y_test = train_test_split(X, y, test_size=0.2, random_state=0)\n",
    "\n",
    "model = LinearRegression().fit(X_train, y_train)\n",
    "\n",
    "print('inercept ', model.intercept_)\n",
    "print('coeff ', model.coef_)\n",
    "\n",
    "y_pred = model.predict(X_test)\n",
    "df = pd.DataFrame({'Actual': y_test.flatten(), 'Predicted': y_pred.flatten()})\n",
    "print(df)\n",
    "\n",
    "plt.figure(figsize=(7,3))\n",
    "\n",
    "plt.scatter(X_test, y_test,  color='gray')\n",
    "plt.plot(X_test, y_pred, color='red', linewidth=2)\n",
    "plt.show()\n",
    "\n",
    "new_X = [[2020], [2021], [2022]]\n",
    "new_pred = model.predict(new_X) \n",
    "new_annual = pd.DataFrame({'city': 'ROTTERDAM', 'year' : [2020, 2021, 2022], 'annual_consume': y_pred.flatten()})\n",
    "\n",
    "combined_rotterdam = pd.concat([rotterdam, new_annual], ignore_index=True, axis=0)"
   ]
  },
  {
   "cell_type": "code",
   "execution_count": 182,
   "metadata": {},
   "outputs": [
    {
     "data": {
      "image/png": "[encoded data removed]",
      "text/plain": [
       "<Figure size 432x288 with 1 Axes>"
      ]
     },
     "metadata": {
      "needs_background": "light"
     },
     "output_type": "display_data"
    },
    {
     "name": "stdout",
     "output_type": "stream",
     "text": [
      "            city  year  annual_consume\n",
      "0      AMSTERDAM  2009    2.120789e+07\n",
      "1      AMSTERDAM  2010    2.070933e+07\n",
      "2      AMSTERDAM  2011    2.051905e+07\n",
      "3      AMSTERDAM  2012    2.009221e+07\n",
      "4      AMSTERDAM  2013    1.972948e+07\n",
      "5      AMSTERDAM  2014    1.961122e+07\n",
      "6      AMSTERDAM  2015    1.904514e+07\n",
      "7      AMSTERDAM  2016    1.969229e+07\n",
      "8      AMSTERDAM  2017    1.984311e+07\n",
      "9      AMSTERDAM  2018    1.987235e+07\n",
      "10     AMSTERDAM  2019    1.975610e+07\n",
      "11     AMSTERDAM  2020    2.014135e+07\n",
      "12     AMSTERDAM  2021    1.940791e+07\n",
      "13     AMSTERDAM  2022    2.043472e+07\n",
      "14  S-GRAVENHAGE  2009    1.593926e+07\n",
      "15  S-GRAVENHAGE  2010    1.600877e+07\n",
      "16  S-GRAVENHAGE  2011    1.606662e+07\n",
      "17  S-GRAVENHAGE  2012    1.609674e+07\n",
      "18  S-GRAVENHAGE  2013    1.598997e+07\n",
      "19  S-GRAVENHAGE  2014    1.581747e+07\n",
      "20  S-GRAVENHAGE  2015    1.546520e+07\n",
      "21  S-GRAVENHAGE  2016    1.510704e+07\n",
      "22  S-GRAVENHAGE  2017    1.493438e+07\n",
      "23  S-GRAVENHAGE  2018    1.488798e+07\n",
      "24  S-GRAVENHAGE  2019    1.459238e+07\n",
      "25  S-GRAVENHAGE  2020    1.564373e+07\n",
      "26  S-GRAVENHAGE  2021    1.490084e+07\n",
      "27  S-GRAVENHAGE  2022    1.594089e+07\n",
      "28     ROTTERDAM  2009    1.256363e+07\n",
      "29     ROTTERDAM  2010    1.261876e+07\n",
      "30     ROTTERDAM  2011    1.264780e+07\n",
      "31     ROTTERDAM  2012    1.266696e+07\n",
      "32     ROTTERDAM  2013    1.253996e+07\n",
      "33     ROTTERDAM  2014    1.251248e+07\n",
      "34     ROTTERDAM  2015    1.213876e+07\n",
      "35     ROTTERDAM  2016    1.187263e+07\n",
      "36     ROTTERDAM  2017    1.169252e+07\n",
      "37     ROTTERDAM  2018    1.170696e+07\n",
      "38     ROTTERDAM  2019    1.128619e+07\n",
      "39     ROTTERDAM  2020    1.230274e+07\n",
      "40     ROTTERDAM  2021    1.163401e+07\n",
      "41     ROTTERDAM  2022    1.257023e+07\n"
     ]
    }
   ],
   "source": [
    "predicted_top3 = pd.concat([combined_adam, combined_denhaag, combined_rotterdam], ignore_index=True, axis=0)\n",
    "\n",
    "x1 = predicted_top3[predicted_top3['city'] == 'AMSTERDAM']['year']\n",
    "y1 = predicted_top3[predicted_top3['city'] == 'AMSTERDAM']['annual_consume']/10000\n",
    "plt.plot(x1, y1, label = \"Damsco\")\n",
    "\n",
    "x2 = predicted_top3[predicted_top3['city'] == 'S-GRAVENHAGE']['year']\n",
    "y2 = predicted_top3[predicted_top3['city'] == 'S-GRAVENHAGE']['annual_consume']/10000\n",
    "plt.plot(x2, y2, label = \"The Hague\")\n",
    "\n",
    "x3 = predicted_top3[predicted_top3['city'] == 'ROTTERDAM']['year']\n",
    "y3 = predicted_top3[predicted_top3['city'] == 'ROTTERDAM']['annual_consume']/10000\n",
    "plt.plot(x3, y3, label = \"Roffa\")\n",
    "\n",
    "plt.title('Yearly consume * 10000')\n",
    "plt.xlabel('year')\n",
    "plt.ylabel('annual consume')\n",
    "\n",
    "plt.legend()\n",
    "plt.show()\n",
    "\n",
    "print(predicted_top3)"
   ]
  },
  {
   "cell_type": "code",
   "execution_count": 149,
   "metadata": {},
   "outputs": [
    {
     "name": "stdout",
     "output_type": "stream",
     "text": [
      "         annual use  # households  average use\n",
      "2009   97783.836200        214167  4565.775129\n",
      "2010  151664.251100        323139  4693.467861\n",
      "2011  152521.313000        325219  4689.803271\n",
      "2012  154323.431200        327989  4705.140453\n",
      "2013  154687.333100        331975  4659.607895\n",
      "2014  153084.688300        332385  4605.643705\n",
      "2015  148446.935000        333615  4449.648097\n",
      "2016  146126.587400        335007  4361.896539\n",
      "2017  145989.905900        341250  4278.092481\n",
      "2018  150845.282884        351123  4296.080943\n",
      "2019  146564.089577        349921  4188.490819\n"
     ]
    },
    {
     "data": {
      "image/png": "[encoded data removed]",
      "text/plain": [
       "<Figure size 432x288 with 1 Axes>"
      ]
     },
     "metadata": {
      "needs_background": "light"
     },
     "output_type": "display_data"
    }
   ],
   "source": [
    "#fig, ax = plt.subplots(figsize=(15,7))\n",
    "#annual_Consume_Elec = elecFrame.groupby('year').count()['annual_consume'].plot(ax=ax)\n",
    "#plt.show()\n",
    "\n",
    "\n",
    "#elecFrame[\"annual_consume\"].sum(axis=0).where(elecFrame[\"year\"] == \"2010\", 0)\n",
    "#df['total'] = elecFrame.loc[elecFrame['year'] == 2010,['annual_consume']].sum(axis=0)\n",
    "\n",
    "years = [\"2009\", \"2010\", \"2011\", \"2012\", \"2013\", \"2014\", \"2015\", \"2016\", \"2017\", \"2018\", \"2019\"]\n",
    "\n",
    "cons_year = []\n",
    "households_year = []\n",
    "avg_cons = []\n",
    "for i in years:\n",
    "    sum_ann = elecFrame[\"annual_consume\"].where(elecFrame['year'] == i).sum()\n",
    "    sum_ann_div = sum_ann/10000\n",
    "    households = elecFrame[\"year\"].where(elecFrame[\"year\"] == i).count()\n",
    "    avg = sum_ann/households\n",
    "    cons_year.append(sum_ann_div)\n",
    "    households_year.append(households)\n",
    "    avg_cons.append(avg)\n",
    "\n",
    "\n",
    "data = zip(cons_year, households_year, avg_cons)\n",
    "annual_use = pd.DataFrame(list(data), index = years, columns = [\"annual use\", \"# households\", \"average use\"])\n",
    "#annual_use_electricity = pd.DataFrame(cons_year, index = years, columns = [\"annual use\"])\n",
    "print(annual_use)\n",
    "#annual_use.plot()\n",
    "avg_use = pd.DataFrame(avg_cons, index = years, columns = [\"Average Use\"])\n",
    "avg_use_plot = avg_use.plot()\n",
    "avg_use_plot.set_ylabel(\"gebruik in kWh\")\n",
    "avg_use_plot.set_xlabel(\"Jaar\")\n",
    "plt.show()"
   ]
  },
  {
   "cell_type": "markdown",
   "metadata": {},
   "source": [
    "# Evaluation"
   ]
  },
  {
   "cell_type": "markdown",
   "metadata": {},
   "source": []
  },
  {
   "cell_type": "markdown",
   "metadata": {},
   "source": [
    "# Deployment"
   ]
  },
  {
   "cell_type": "markdown",
   "metadata": {},
   "source": []
  }
 ],
 "metadata": {
  "kernelspec": {
   "display_name": "Python 3",
   "language": "python",
   "name": "python3"
  },
  "language_info": {
   "codemirror_mode": {
    "name": "ipython",
    "version": 3
   },
   "file_extension": ".py",
   "mimetype": "text/x-python",
   "name": "python",
   "nbconvert_exporter": "python",
   "pygments_lexer": "ipython3",
   "version": "3.7.6"
  }
 },
 "nbformat": 4,
 "nbformat_minor": 4
}
